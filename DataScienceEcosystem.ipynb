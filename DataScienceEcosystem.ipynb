{
  "metadata": {
    "kernelspec": {
      "name": "python",
      "display_name": "Python (Pyodide)",
      "language": "python"
    },
    "language_info": {
      "codemirror_mode": {
        "name": "python",
        "version": 3
      },
      "file_extension": ".py",
      "mimetype": "text/x-python",
      "name": "python",
      "nbconvert_exporter": "python",
      "pygments_lexer": "ipython3",
      "version": "3.8"
    }
  },
  "nbformat_minor": 5,
  "nbformat": 4,
  "cells": [
    {
      "id": "5b3fcc44-ce5e-4a18-bdcb-a8238d1fb2f1",
      "cell_type": "markdown",
      "source": "# Data Science Tools and Ecosystem",
      "metadata": {}
    },
    {
      "id": "c2eba285-7341-4bee-9491-ad315683308a",
      "cell_type": "markdown",
      "source": "In this notebook, Data Science Tools and Ecosystem are summarised.",
      "metadata": {}
    },
    {
      "id": "00cbfa98-3fd7-4d57-ac34-972f33d90a97",
      "cell_type": "markdown",
      "source": "**Objectives**\n* List popular languages for Data Science\n* List commonly used libraries used for Data Science\n* List development environment open sourse tools\n* Evaluate an arithmetic expression in Python\n\n## Author\nMarios Singh",
      "metadata": {}
    },
    {
      "id": "5fcf09b0-b241-4f80-bfdd-f7c370aa4e9e",
      "cell_type": "markdown",
      "source": "Some of the popular languages that Data Scientists use are:\n\n1. SQL\n2. Python\n3. R\n4. C++",
      "metadata": {}
    },
    {
      "id": "899f6512-24ad-43ae-9d02-b25db37d1870",
      "cell_type": "markdown",
      "source": "Some of the commonly used libraries used by Data Scientists include:\n\n1. NumPy\n2. Pandas\n3. Matplotlib\n4. Seaborn\n5. Plotly\n6. Scikit-learn",
      "metadata": {}
    },
    {
      "id": "c6e6e9a8-f1ca-4724-97d3-b01e7c86871c",
      "cell_type": "markdown",
      "source": "| Data Science Tools |\n|--------------------|\n| Visual Studio Code |\n| RStudio            |\n| JupyterLab         |",
      "metadata": {}
    },
    {
      "id": "fc45ec39-d64d-404d-ae54-fe29a64595ea",
      "cell_type": "markdown",
      "source": "### Below are a few examples of evaluating arithmetic expressions in Python",
      "metadata": {}
    },
    {
      "id": "7af49850-2921-4bb9-a917-7af978da6556",
      "cell_type": "code",
      "source": "# This a simple arithmetic expression to mutiply then add integers\n(3 * 4) + 5",
      "metadata": {
        "trusted": true
      },
      "outputs": [
        {
          "execution_count": 7,
          "output_type": "execute_result",
          "data": {
            "text/plain": "17"
          },
          "metadata": {}
        }
      ],
      "execution_count": 7
    },
    {
      "id": "944faad2-223b-4cbf-833d-2c89ee19b080",
      "cell_type": "code",
      "source": "# This will convert 200 minutes to hours by dividing by 60\n200 / 60",
      "metadata": {
        "trusted": true
      },
      "outputs": [
        {
          "execution_count": 8,
          "output_type": "execute_result",
          "data": {
            "text/plain": "3.3333333333333335"
          },
          "metadata": {}
        }
      ],
      "execution_count": 8
    },
    {
      "id": "4f9c3738-c1dc-48cb-ad4d-84de5db6b7ad",
      "cell_type": "markdown",
      "source": "Link to GitHub repo: https://github.com/Marios082/ibmdatascience",
      "metadata": {}
    }
  ]
}